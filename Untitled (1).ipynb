{
 "cells": [
  {
   "cell_type": "code",
   "execution_count": 3,
   "id": "b36b5ab3-f56c-4820-8712-586b48fe3850",
   "metadata": {},
   "outputs": [
    {
     "name": "stdout",
     "output_type": "stream",
     "text": [
      "Average Score: 86.6\n",
      "Grade: B\n",
      "Attendance Rate: 80.0%\n"
     ]
    }
   ],
   "source": [
    "import module as mm\n",
    "\n",
    "scores = [85, 90, 78, 92, 88]\n",
    "attendance = [1, 1, 0, 1, 1]\n",
    "\n",
    "avg_score = mm.calculate_average(scores)\n",
    "grade = mm.grade_student(avg_score)\n",
    "attendance_rate = mm.attendance_summary(attendance)\n",
    "\n",
    "print(f\"Average Score: {avg_score}\")\n",
    "print(f\"Grade: {grade}\")\n",
    "print(f\"Attendance Rate: {attendance_rate}%\")"
   ]
  },
  {
   "cell_type": "code",
   "execution_count": null,
   "id": "97b0facc-6b54-4da0-919f-75450199c45d",
   "metadata": {},
   "outputs": [],
   "source": []
  }
 ],
 "metadata": {
  "kernelspec": {
   "display_name": "Python 3 (ipykernel)",
   "language": "python",
   "name": "python3"
  },
  "language_info": {
   "codemirror_mode": {
    "name": "ipython",
    "version": 3
   },
   "file_extension": ".py",
   "mimetype": "text/x-python",
   "name": "python",
   "nbconvert_exporter": "python",
   "pygments_lexer": "ipython3",
   "version": "3.12.4"
  }
 },
 "nbformat": 4,
 "nbformat_minor": 5
}
